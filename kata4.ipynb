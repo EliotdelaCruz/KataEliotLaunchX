{
 "cells": [
  {
   "cell_type": "code",
   "execution_count": 40,
   "metadata": {},
   "outputs": [
    {
     "name": "stdout",
     "output_type": "stream",
     "text": [
      "-1\n",
      "-1\n",
      "-1\n",
      "-1\n",
      "-1\n"
     ]
    }
   ],
   "source": [
    "text = \"\"\"Interesting facts about the Moon. The Moon is Earth's only satellite.\n",
    "... There are several interesting facts about the Moon and how it affects life here on Earth. \n",
    "... On average, the Moon moves 4cm away from the Earth every year. \n",
    "... This yearly drift is not significant enough to cause immediate effects on Earth. \n",
    "... The highest daylight temperature of the Moon is 127 C.\"\"\"\n",
    "\n",
    "\n",
    "\n",
    "#average, temperature, distance\n",
    "pala1=[\"average\", \"temperature\", \"distance\"]\n",
    "\n",
    "\n",
    "for pala1 in text.split('\\n'):\n",
    "    print(pala1.find('average'+'temperature'+'distance'))\n",
    "    \n",
    "    "
   ]
  }
 ],
 "metadata": {
  "interpreter": {
   "hash": "f4497c8e5b2b4e17e13f291e424f91085ee4f6e9c83a187187c99901555848fc"
  },
  "kernelspec": {
   "display_name": "Python 3.9.4 64-bit",
   "language": "python",
   "name": "python3"
  },
  "language_info": {
   "codemirror_mode": {
    "name": "ipython",
    "version": 3
   },
   "file_extension": ".py",
   "mimetype": "text/x-python",
   "name": "python",
   "nbconvert_exporter": "python",
   "pygments_lexer": "ipython3",
   "version": "3.9.4"
  },
  "orig_nbformat": 4
 },
 "nbformat": 4,
 "nbformat_minor": 2
}
