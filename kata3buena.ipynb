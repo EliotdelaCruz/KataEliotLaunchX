{
 "cells": [
  {
   "cell_type": "code",
   "execution_count": 1,
   "metadata": {},
   "outputs": [
    {
     "name": "stdout",
     "output_type": "stream",
     "text": [
      "Cuidado! Asteroide con posible riesgo de choque\n"
     ]
    }
   ],
   "source": [
    "velaste=49\n",
    "\n",
    "if velaste>25:\n",
    "    print(\"Cuidado! Asteroide con posible riesgo de choque\")\n",
    "else:\n",
    "    print(\"No hay peligro inminente\")"
   ]
  },
  {
   "cell_type": "code",
   "execution_count": 25,
   "metadata": {},
   "outputs": [
    {
     "name": "stdout",
     "output_type": "stream",
     "text": [
      "Muy lento no se puede ver\n"
     ]
    }
   ],
   "source": [
    "kms=19\n",
    "\n",
    "if kms>20:\n",
    "    print(\"Se podría ver una luz\")\n",
    "elif kms==20:\n",
    "    print(\"Se puede ver una luz\")\n",
    "else:\n",
    "    print(\"Muy lento no se puede ver\")"
   ]
  },
  {
   "cell_type": "code",
   "execution_count": 27,
   "metadata": {},
   "outputs": [
    {
     "name": "stdout",
     "output_type": "stream",
     "text": [
      "se puede ver una luz\n"
     ]
    }
   ],
   "source": [
    "velocidad=20\n",
    "tamaño=20\n",
    "\n",
    "if velocidad>25 and tamaño>25:\n",
    "    print(\"Peligro de destrucción inminente\")\n",
    "elif velocidad>=20:\n",
    "        print(\"Se puede ver una luz\")\n",
    "elif tamaño<25:\n",
    "    print(\"No hay riesgo\")\n",
    "else:\n",
    "    print(\"NO hay riesgo\")"
   ]
  }
 ],
 "metadata": {
  "interpreter": {
   "hash": "f4497c8e5b2b4e17e13f291e424f91085ee4f6e9c83a187187c99901555848fc"
  },
  "kernelspec": {
   "display_name": "Python 3.9.4 64-bit",
   "language": "python",
   "name": "python3"
  },
  "language_info": {
   "codemirror_mode": {
    "name": "ipython",
    "version": 3
   },
   "file_extension": ".py",
   "mimetype": "text/x-python",
   "name": "python",
   "nbconvert_exporter": "python",
   "pygments_lexer": "ipython3",
   "version": "3.9.4"
  },
  "orig_nbformat": 4
 },
 "nbformat": 4,
 "nbformat_minor": 2
}
