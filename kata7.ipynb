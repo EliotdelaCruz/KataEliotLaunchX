{
 "cells": [
  {
   "cell_type": "code",
   "execution_count": 3,
   "metadata": {},
   "outputs": [
    {
     "name": "stdout",
     "output_type": "stream",
     "text": [
      "El nombre del planeta es: Marte\n",
      "El nombre del planeta es: Venus\n"
     ]
    }
   ],
   "source": [
    "new_planet= ''\n",
    "planets=[]\n",
    "planet=[]\n",
    "\n",
    "while new_planet != \"done\":\n",
    "    if new_planet:\n",
    "         planets.append(new_planet)   \n",
    "    new_planet=input(\"Ingrese un nombre de planeta, o escriba done si ha terminado\")\n",
    "\n",
    "for planet in planets:\n",
    "    print(\"El nombre del planeta es: \"+planet)"
   ]
  }
 ],
 "metadata": {
  "interpreter": {
   "hash": "f4497c8e5b2b4e17e13f291e424f91085ee4f6e9c83a187187c99901555848fc"
  },
  "kernelspec": {
   "display_name": "Python 3.9.4 64-bit",
   "language": "python",
   "name": "python3"
  },
  "language_info": {
   "codemirror_mode": {
    "name": "ipython",
    "version": 3
   },
   "file_extension": ".py",
   "mimetype": "text/x-python",
   "name": "python",
   "nbconvert_exporter": "python",
   "pygments_lexer": "ipython3",
   "version": "3.9.4"
  },
  "orig_nbformat": 4
 },
 "nbformat": 4,
 "nbformat_minor": 2
}
