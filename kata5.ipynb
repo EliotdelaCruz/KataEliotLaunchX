{
 "cells": [
  {
   "cell_type": "code",
   "execution_count": 10,
   "metadata": {},
   "outputs": [
    {
     "name": "stdout",
     "output_type": "stream",
     "text": [
      "628949330\n",
      "390577533.93\n"
     ]
    }
   ],
   "source": [
    "from math import ceil,floor\n",
    "tierra=149597870\n",
    "jupiter=778547200\n",
    "conversion=0.621\n",
    "\n",
    "print(jupiter - tierra)\n",
    "print((jupiter - tierra)*conversion)"
   ]
  },
  {
   "cell_type": "code",
   "execution_count": 15,
   "metadata": {},
   "outputs": [
    {
     "name": "stdout",
     "output_type": "stream",
     "text": [
      "496.8\n"
     ]
    }
   ],
   "source": [
    "var1=int(input(\"Ingrese la distancia del primer planeta\"))\n",
    "var2=int(input(\"Ingrese la distancia del segundo planeta\"))\n",
    "conversion1=0.621\n",
    "\n",
    "\n",
    "print(abs((var1-var2)*conversion1))"
   ]
  }
 ],
 "metadata": {
  "interpreter": {
   "hash": "f4497c8e5b2b4e17e13f291e424f91085ee4f6e9c83a187187c99901555848fc"
  },
  "kernelspec": {
   "display_name": "Python 3.9.4 64-bit",
   "language": "python",
   "name": "python3"
  },
  "language_info": {
   "codemirror_mode": {
    "name": "ipython",
    "version": 3
   },
   "file_extension": ".py",
   "mimetype": "text/x-python",
   "name": "python",
   "nbconvert_exporter": "python",
   "pygments_lexer": "ipython3",
   "version": "3.9.4"
  },
  "orig_nbformat": 4
 },
 "nbformat": 4,
 "nbformat_minor": 2
}
