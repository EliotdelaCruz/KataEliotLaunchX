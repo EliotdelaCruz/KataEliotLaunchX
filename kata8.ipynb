{
 "cells": [
  {
   "cell_type": "code",
   "execution_count": 2,
   "metadata": {},
   "outputs": [
    {
     "name": "stdout",
     "output_type": "stream",
     "text": [
      "Mars\n",
      "2\n",
      "Mars\n",
      "6752\n"
     ]
    }
   ],
   "source": [
    "planet={\n",
    "    'name':'Mars',\n",
    "    'moons':2\n",
    "}\n",
    "\n",
    "print(planet['name'])\n",
    "print(planet['moons'])\n",
    "\n",
    "planet['circunferencia(km)']= {\n",
    "    'polar':6752,\n",
    "    'equatorial':6792\n",
    "}\n",
    "\n",
    "print(planet['name'])\n",
    "print(planet['polar'])"
   ]
  },
  {
   "cell_type": "code",
   "execution_count": 9,
   "metadata": {},
   "outputs": [
    {
     "name": "stdout",
     "output_type": "stream",
     "text": [
      "17.833333333333332\n"
     ]
    }
   ],
   "source": [
    "planet_moons = {\n",
    "    'mercury': 0,\n",
    "    'venus': 0,\n",
    "    'earth': 1,\n",
    "    'mars': 2,\n",
    "    'jupiter': 79,\n",
    "    'saturn': 82,\n",
    "    'uranus': 27,\n",
    "    'neptune': 14,\n",
    "    'pluto': 5,\n",
    "    'haumea': 2,\n",
    "    'makemake': 1,\n",
    "    'eris': 1\n",
    "}\n",
    "lunas=planet_moons.values()\n",
    "planetas=len(planet_moons.keys())\n",
    "total_moons=0\n",
    "\n",
    "for luna in lunas:\n",
    "    total_moons=total_moons+luna\n",
    "\n",
    "prom=total_moons/planetas\n",
    "\n",
    "print(prom)"
   ]
  }
 ],
 "metadata": {
  "interpreter": {
   "hash": "f4497c8e5b2b4e17e13f291e424f91085ee4f6e9c83a187187c99901555848fc"
  },
  "kernelspec": {
   "display_name": "Python 3.9.4 64-bit",
   "language": "python",
   "name": "python3"
  },
  "language_info": {
   "codemirror_mode": {
    "name": "ipython",
    "version": 3
   },
   "file_extension": ".py",
   "mimetype": "text/x-python",
   "name": "python",
   "nbconvert_exporter": "python",
   "pygments_lexer": "ipython3",
   "version": "3.9.4"
  },
  "orig_nbformat": 4
 },
 "nbformat": 4,
 "nbformat_minor": 2
}
