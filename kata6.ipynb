{
 "cells": [
  {
   "cell_type": "code",
   "execution_count": 4,
   "metadata": {},
   "outputs": [
    {
     "name": "stdout",
     "output_type": "stream",
     "text": [
      "9\n",
      "['MERCURIO', 'VENUS', 'TIERRA', 'MARTE', 'JÚPITER', 'SATURNO', 'URANO', 'NEPTUNO', 'PLUTON']\n"
     ]
    }
   ],
   "source": [
    "planetas=['MERCURIO','VENUS','TIERRA','MARTE','JÚPITER','SATURNO','URANO','NEPTUNO']\n",
    "\n",
    "planetas.append('PLUTON')\n",
    "\n",
    "print(len(planetas))\n",
    "print(planetas)\n",
    "\n"
   ]
  },
  {
   "cell_type": "code",
   "execution_count": 17,
   "metadata": {},
   "outputs": [
    {
     "name": "stdout",
     "output_type": "stream",
     "text": [
      "Los planetas que estan mas cerca Mars\n",
      "['Mercury', 'Venus', 'Earth']\n",
      "Los planetas que estan mas lejos Mars\n",
      "['Jupiter', 'Saturn', 'Neptune']\n"
     ]
    }
   ],
   "source": [
    "planets= ['Mercury', 'Venus', 'Earth', 'Mars', 'Jupiter', 'Saturn', 'Neptune']\n",
    "\n",
    "planetausu=input(\"Escoge un planeta\")\n",
    "\n",
    "planetaindex=planets.index(planetausu)\n",
    "\n",
    "print(\"Los planetas que estan mas cerca \"+planetausu )\n",
    "print(planets[0:planetaindex])\n",
    "\n",
    "print(\"Los planetas que estan mas lejos \"+planetausu )\n",
    "print(planets[planetaindex+1:])"
   ]
  }
 ],
 "metadata": {
  "interpreter": {
   "hash": "f4497c8e5b2b4e17e13f291e424f91085ee4f6e9c83a187187c99901555848fc"
  },
  "kernelspec": {
   "display_name": "Python 3.9.4 64-bit",
   "language": "python",
   "name": "python3"
  },
  "language_info": {
   "codemirror_mode": {
    "name": "ipython",
    "version": 3
   },
   "file_extension": ".py",
   "mimetype": "text/x-python",
   "name": "python",
   "nbconvert_exporter": "python",
   "pygments_lexer": "ipython3",
   "version": "3.9.4"
  },
  "orig_nbformat": 4
 },
 "nbformat": 4,
 "nbformat_minor": 2
}
