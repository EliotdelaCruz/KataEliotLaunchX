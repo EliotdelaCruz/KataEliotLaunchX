{
 "cells": [
  {
   "cell_type": "code",
   "execution_count": 5,
   "metadata": {},
   "outputs": [
    {
     "name": "stdout",
     "output_type": "stream",
     "text": [
      "7.0\n"
     ]
    }
   ],
   "source": [
    "def gas(tanque1,tanque2,tanque3):\n",
    "    numtanques=3\n",
    "    totalgas=tanque1+tanque2+tanque3\n",
    "    promedio=totalgas/numtanques\n",
    "    return promedio\n",
    "\n",
    "print(gas(10,5,6))"
   ]
  },
  {
   "cell_type": "code",
   "execution_count": 8,
   "metadata": {},
   "outputs": [
    {
     "name": "stdout",
     "output_type": "stream",
     "text": [
      "\n",
      "    Mision a Marte\n",
      "    Tiempo total de vuelo: 70 minutos\n",
      "    Gas total restante: 50000 galones\n",
      "    \n",
      "\n",
      "    Mision a Venus\n",
      "    Tiempo total de vuelo: 80 minutos\n",
      "    Gas total restante: 50000\n",
      "    \n",
      "\n",
      "    Mision a : Luna\n",
      "    Tiempo total de vuelo: 96 minutos\n",
      "    Gas total restante: 40000\n",
      "    principal tanque --> 25000 galones restantes\n",
      "\n"
     ]
    }
   ],
   "source": [
    "def repmision(horaprelanzamiento, tiempovuelo, destino, gasext, gasint):\n",
    "    return f\"\"\"\n",
    "    Mision a {destino}\n",
    "    Tiempo total de vuelo: {horaprelanzamiento+tiempovuelo} minutos\n",
    "    Gas total restante: {gasext+gasint} galones\n",
    "    \"\"\"\n",
    "print(repmision(20,50,\"Marte\",20000,30000))\n",
    "\n",
    "def repmision2(destino2,*minutos,**reservagas):\n",
    "    return f\"\"\"\n",
    "    Mision a {destino2}\n",
    "    Tiempo total de vuelo: {sum(minutos)} minutos\n",
    "    Gas total restante: {sum(reservagas.values())}\n",
    "    \"\"\"\n",
    "print(repmision2(\"Venus\",10,50,20, principal=30000, externo=20000))\n",
    "\n",
    "def repmision3(destino3, *minutos2,**reservagas2):\n",
    "    reprincipal= f\"\"\"\n",
    "    Mision a : {destino3}\n",
    "    Tiempo total de vuelo: {sum(minutos2)} minutos\n",
    "    Gas total restante: {sum(reservagas2.values())}\n",
    "    \"\"\"\n",
    "    for nombretanque, galones in reservagas2.items():\n",
    "        reprincipal+=f\"{nombretanque} tanque --> {galones} galones restantes\\n\"\n",
    "        return reprincipal\n",
    "\n",
    "print(repmision3(\"Luna\",10,20,66, principal=25000, externo=15000))"
   ]
  }
 ],
 "metadata": {
  "interpreter": {
   "hash": "f4497c8e5b2b4e17e13f291e424f91085ee4f6e9c83a187187c99901555848fc"
  },
  "kernelspec": {
   "display_name": "Python 3.9.4 64-bit",
   "language": "python",
   "name": "python3"
  },
  "language_info": {
   "codemirror_mode": {
    "name": "ipython",
    "version": 3
   },
   "file_extension": ".py",
   "mimetype": "text/x-python",
   "name": "python",
   "nbconvert_exporter": "python",
   "pygments_lexer": "ipython3",
   "version": "3.9.4"
  },
  "orig_nbformat": 4
 },
 "nbformat": 4,
 "nbformat_minor": 2
}
